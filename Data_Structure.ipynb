{
  "nbformat": 4,
  "nbformat_minor": 0,
  "metadata": {
    "colab": {
      "provenance": []
    },
    "kernelspec": {
      "name": "python3",
      "display_name": "Python 3"
    },
    "language_info": {
      "name": "python"
    }
  },
  "cells": [
    {
      "cell_type": "markdown",
      "source": [
        "# Data Types and Structures Questions"
      ],
      "metadata": {
        "id": "TLWSkUg34ZFE"
      }
    },
    {
      "cell_type": "markdown",
      "source": [
        "1. What are data structures, and why are they important?"
      ],
      "metadata": {
        "id": "7_jI7JJl4bn1"
      }
    },
    {
      "cell_type": "markdown",
      "source": [
        "Ans- Data structures are ways of organizing and storing data so that it can be accessed and modified efficiently. They provide a systematic way of organizing data in a computer's memory to enable faster and more efficient algorithms.   \n",
        "\n",
        " importance -                                                            \n",
        "  -  Efficiency: Different operations on data structures have varying time complexities. The right choice of data structure can drastically improve the performance of an application by optimizing operations like search, insertion, deletion, or traversal.                                         \n",
        "\n",
        "  - Memory Management: Data structures help in organizing memory efficiently. Some structures, like linked lists or trees, allow for dynamic memory allocation, while others, like arrays, are fixed in size but allow for quick indexing.                                                                  \n",
        "\n",
        "  -  Real-World Applications: Many real-world problems require efficient handling of data. For example, a web search engine uses trees and graphs to organize data, while a bank uses queues to process transactions. Without efficient data structures, these operations would be too slow or impractical.\n",
        "\n",
        "  - Problem Solving: Understanding and using the right data structure allows developers to solve problems more effectively and can make the difference between a solution that is slow and inefficient and one that performs well.\n",
        "\n"
      ],
      "metadata": {
        "id": "JmUXHaeC4nVb"
      }
    },
    {
      "cell_type": "markdown",
      "source": [
        "2.  Explain the difference between mutable and immutable data types with examples?"
      ],
      "metadata": {
        "id": "DdOdUUU752Z0"
      }
    },
    {
      "cell_type": "markdown",
      "source": [
        "Ans- Mutable Data Types                                                        \n",
        "- A mutable data type allows its value or contents to be changed after it is created. When you modify a mutable object, the original object is altered, meaning its memory location stays the same, but its value changes.            \n",
        "-  examples- Lists  ,Dictionaries ,Sets  "
      ],
      "metadata": {
        "id": "uljqpFtp6DU2"
      }
    },
    {
      "cell_type": "code",
      "source": [
        "my_list = [1, 2, 3]\n",
        "my_list[0] = 10  # Changing the first element\n",
        "print(my_list)  # Output: [10, 2, 3]\n"
      ],
      "metadata": {
        "colab": {
          "base_uri": "https://localhost:8080/"
        },
        "id": "975o2qxE6ZHq",
        "outputId": "75a9bd8e-e924-4203-b2c7-aafa5529862b"
      },
      "execution_count": 2,
      "outputs": [
        {
          "output_type": "stream",
          "name": "stdout",
          "text": [
            "[10, 2, 3]\n"
          ]
        }
      ]
    },
    {
      "cell_type": "markdown",
      "source": [
        "Immutable Data Types\n",
        "- An immutable data type, on the other hand, does not allow modification after it is created. Any attempt to change its value results in the creation of a new object. The original object remains unchanged.                                 \n",
        "- examples- Strings , Tuples"
      ],
      "metadata": {
        "id": "_Vb0oJ936cmo"
      }
    },
    {
      "cell_type": "code",
      "source": [
        "my_string = \"hello\"\n",
        "# Attempting to change the first character\n",
        "my_string = my_string[:0] + 'H' + my_string[1:]\n",
        "print(my_string)  # Output: \"Hello\" (a new string object is created)\n"
      ],
      "metadata": {
        "colab": {
          "base_uri": "https://localhost:8080/"
        },
        "id": "OC_vaiZH66P9",
        "outputId": "d1d9a947-a6e1-4fed-e586-151775deca3e"
      },
      "execution_count": 3,
      "outputs": [
        {
          "output_type": "stream",
          "name": "stdout",
          "text": [
            "Hello\n"
          ]
        }
      ]
    },
    {
      "cell_type": "markdown",
      "source": [
        "3.  What are the main differences between lists and tuples in Python?"
      ],
      "metadata": {
        "id": "xn3dU8Gu68cl"
      }
    },
    {
      "cell_type": "markdown",
      "source": [
        "Ans- List -                                                                  \n",
        " - Lists are mutable, meaning their contents can be modified after creation. You can change, add, or remove elements in a list.                           \n",
        " - Lists are created using square brackets [].\n",
        " -  Since lists are mutable, they require more memory and have a slightly slower performance compared to tuples, especially when performing operations like adding/removing elements.\n",
        " - Lists are ideal when you need a collection of items that might change over time (e.g., dynamic collections, data that might be modified, added to, or removed).\n",
        " - Lists can contain other mutable objects (such as lists, dictionaries, or sets) and can be changed even if they are nested inside other lists.          \n",
        "\n",
        " tuples-                                                                      \n",
        " -  Tuples are immutable, meaning once they are created, their contents cannot be changed. You cannot modify, add, or remove elements in a tuple.            \n",
        " - Tuples are created using parentheses ().                                    \n",
        " -  Tuples are generally faster and more memory-efficient than lists because they are immutable. Python can optimize memory usage for tuples, making them more efficient for read-only data.                                             \n",
        " - Tuples are better suited for situations where the data should remain constant and you want to ensure the integrity of the collection. They are often used as keys in dictionaries (since they are hashable) or to represent fixed data structures (e.g., coordinates).                                   \n",
        " - Tuples can contain other objects, and while the tuple itself is immutable, the contents inside the tuple may still be mutable if they are mutable data types (e.g., lists)."
      ],
      "metadata": {
        "id": "5U09vRF07Di0"
      }
    },
    {
      "cell_type": "markdown",
      "source": [
        "4. Describe how dictionaries store data?"
      ],
      "metadata": {
        "id": "LnECEDe68No_"
      }
    },
    {
      "cell_type": "markdown",
      "source": [
        "Ans- In Python, dictionaries are a type of data structure used to store key-value pairs. They are incredibly efficient for looking up values when you know the corresponding key. Here’s a breakdown of how dictionaries work and how they store data:                                                         \n",
        "Hash Table: Internally uses a hash table to store key-value pairs.\n",
        "\n",
        "- Hashing: Keys are hashed to generate a unique hash value that helps locate the value in memory.\n",
        "- Collisions: Handled using techniques like open addressing.\n",
        "- Efficiency: Provides fast lookups, insertions, and deletions with an average time complexity of O(1).\n",
        "- Uniqueness: Keys must be unique, and if a key already exists, its associated value will be updated.\n",
        "- Immutability of Keys: Keys must be immutable types (e.g., strings, numbers, tuples).\n",
        "\n",
        "    In short, dictionaries in Python use a highly efficient method of hashing to store and retrieve data based on unique keys, making them incredibly useful for quick lookups and dynamic data management."
      ],
      "metadata": {
        "id": "HcyYXyST8S1E"
      }
    },
    {
      "cell_type": "markdown",
      "source": [
        "5.  Why might you use a set instead of a list in Python?"
      ],
      "metadata": {
        "id": "R_ZuTaGE9X2E"
      }
    },
    {
      "cell_type": "markdown",
      "source": [
        "Ans- In Python, both sets and lists are used to store collections of items, but they have different properties and use cases. Here are the main reasons why you might choose to use a set instead of a list:                                  \n",
        "- You want to store unique elements and automatically avoid duplicates.\n",
        "- You need fast membership tests (checking if an element is in the collection).\n",
        "- You don’t care about the order of the elements.\n",
        "- You want to perform set operations (union, intersection, etc.) easily.\n",
        "- You care about performance for operations like adding, removing, and checking membership."
      ],
      "metadata": {
        "id": "T4fXZAX29ez-"
      }
    },
    {
      "cell_type": "markdown",
      "source": [
        "6.  What is a string in Python, and how is it different from a list?"
      ],
      "metadata": {
        "id": "oFwxw1eP_Adt"
      }
    },
    {
      "cell_type": "markdown",
      "source": [
        "Ans-  A string in Python is a sequence of characters. It is used to store textual data, like words, sentences, or any combination of letters, numbers, and symbols. Strings are immutable, which means once a string is created, it cannot be changed or modified directly.                         \n",
        "- Mutability:                                                               \n",
        "  - String: Immutable — You cannot change a string directly after it's created.\n",
        "  - List: Mutable — You can modify, add, or remove items in a list.\n",
        "- Content                                                                 \n",
        "  - String: A string can only hold characters. It is specifically meant for handling text.\n",
        "  - List: A list can hold multiple types of data, including integers, strings, floats, or even other lists.                                           \n",
        "- Operationss:                        \n",
        " - Strings support operations like concatenation (joining strings) and repetition (repeating strings), but cannot be changed once created.          \n",
        " - Lists support operations like append (adding items), remove (removing items), extend (adding multiple items), and others.                         \n",
        "-Memory Efficiency:                                                       \n",
        " - String: Since strings are immutable, Python can optimize memory usage by reusing existing strings. Multiple variables may reference the same string in memory.                                                                      \n",
        " - List: Lists are mutable, so they take up more memory because they are more flexible and require extra memory management for changes.\n",
        "\n",
        "\n",
        "\n",
        "\n"
      ],
      "metadata": {
        "id": "sDzZsz3O_I-G"
      }
    },
    {
      "cell_type": "markdown",
      "source": [
        "7.  How do tuples ensure data integrity in Python?"
      ],
      "metadata": {
        "id": "8_5SD8xqB071"
      }
    },
    {
      "cell_type": "markdown",
      "source": [
        "Ans- Tuples ensure data integrity in Python by:\n",
        "\n",
        "- Immutability: Once created, the data cannot be changed, preventing accidental modifications.\n",
        "- Consistency: The data remains the same throughout the program, ensuring reliability.\n",
        "- Data Protection: Important data is protected from unintentional changes.\n",
        "- Stable Keys: Tuples can be used safely as dictionary keys, keeping data intact in hash-based collections.\n",
        "- Efficient Memory Usage: They save memory and prevent duplication, ensuring the integrity of the data.                                       \n"
      ],
      "metadata": {
        "id": "yYjz17wVB6KF"
      }
    },
    {
      "cell_type": "markdown",
      "source": [
        "8.  What is a hash table, and how does it relate to dictionaries in Python?"
      ],
      "metadata": {
        "id": "X5GUV4nkubHv"
      }
    },
    {
      "cell_type": "markdown",
      "source": [
        "Ans- A hash table is a data structure used to store key-value pairs efficiently. It allows for fast retrieval of values based on their associated keys. In a hash table, each key is hashed (converted into an index) using a hash function, and the value is stored at that index. This process helps in quickly locating the value associated with a given key.                       \n",
        "Python's dictionaries use hash tables behind the scenes to store and manage key-value pairs. When you store a key-value pair in a Python dictionary, the key is passed through a hash function to generate a hash value, and the value is stored at the corresponding index in the internal array.\n",
        "\n",
        "Keys: In a dictionary, the keys must be hashable, meaning they must have a consistent hash value. This is why immutable types like strings, numbers, and tuples can be used as dictionary keys, but mutable types like lists cannot.\n",
        "\n",
        "Efficiency: Python dictionaries leverage the speed of hash tables to offer O(1) average-time complexity for accessing, adding, or deleting items.\n",
        "                                                             \n"
      ],
      "metadata": {
        "id": "G5sojO5Puh-3"
      }
    },
    {
      "cell_type": "markdown",
      "source": [
        "9.  Can lists contain different data types in Python?"
      ],
      "metadata": {
        "id": "lXhzauoGvPiH"
      }
    },
    {
      "cell_type": "markdown",
      "source": [
        "Ans- Yes, in Python, lists can contain different data types. A Python list is heterogeneous, meaning it can store elements of various types within the same list. You can mix integers, strings, floats, booleans, or even other lists or objects in a single list.                                                  \n",
        "\n",
        " Python is a dynamically-typed language, meaning variables and data structures like lists don’t require you to specify their type when you define them. This flexibility allows lists to store multiple data types, making them versatile and powerful for many applications."
      ],
      "metadata": {
        "id": "UKtEoTatvT45"
      }
    },
    {
      "cell_type": "code",
      "source": [
        "my_list = [1, \"Hello\", 3.14, True, [2, 3, 4]]\n"
      ],
      "metadata": {
        "id": "5VZajCapvuSP"
      },
      "execution_count": 1,
      "outputs": []
    },
    {
      "cell_type": "code",
      "source": [
        "my_list"
      ],
      "metadata": {
        "colab": {
          "base_uri": "https://localhost:8080/"
        },
        "id": "Jd-fUikivu1U",
        "outputId": "6aefdbe6-2d1b-4cb3-daa8-d7644c1b38c9"
      },
      "execution_count": 2,
      "outputs": [
        {
          "output_type": "execute_result",
          "data": {
            "text/plain": [
              "[1, 'Hello', 3.14, True, [2, 3, 4]]"
            ]
          },
          "metadata": {},
          "execution_count": 2
        }
      ]
    },
    {
      "cell_type": "markdown",
      "source": [
        "10.  Explain why strings are immutable in Python?"
      ],
      "metadata": {
        "id": "p923xgnbv0uA"
      }
    },
    {
      "cell_type": "markdown",
      "source": [
        "Ans- In Python, strings are immutable, meaning that once a string is created, its value cannot be changed. This characteristic is important for several reasons, both in terms of performance and data integrity. Let’s explore why strings are immutable in Python:                                         \n",
        "- Strings are immutable in Python because it leads to better memory efficiency, data integrity, hash consistency, and thread safety.\n",
        "\n",
        "- Immutability ensures that once a string is created, it cannot be changed, which prevents unintended side effects when working with strings.\n",
        "\n",
        "- If you need to change a string, Python creates a new string rather than modifying the original one, which is an important characteristic of immutable objects."
      ],
      "metadata": {
        "id": "CNz5kPIiv9Fi"
      }
    },
    {
      "cell_type": "markdown",
      "source": [
        "11. What advantages do dictionaries offer over lists for certain tasks?"
      ],
      "metadata": {
        "id": "m5XH3UeJw5Q5"
      }
    },
    {
      "cell_type": "markdown",
      "source": [
        "Ans-  Dictionaries in Python offer several advantages over lists for certain tasks, especially when you need fast lookups, better organization of data, and flexible key-value pair mapping. Here’s a breakdown of why dictionaries are more suitable than lists in specific use cases:                             \n",
        "Fast lookups: O(1) time complexity for accessing elements using keys.\n",
        "\n",
        "- Key-value mapping: Ideal for associating data with unique identifiers (keys).\n",
        "- Uniqueness of keys: Ensures no duplicate keys.\n",
        "- Efficient insertions and deletions: Adding or removing items is faster.\n",
        "- Better organization: Organize complex data with descriptive keys.\n",
        "- No need for indexing: Access items directly with meaningful keys.\n",
        "- Flexibility: Keys can be any immutable type, offering more flexibility than list indices.\n",
        "- Advanced operations: Easy to perform batch operations or check for key existence."
      ],
      "metadata": {
        "id": "152Bu2pOwVa_"
      }
    },
    {
      "cell_type": "markdown",
      "source": [
        "12.  Describe a scenario where using a tuple would be preferable over a list ?"
      ],
      "metadata": {
        "id": "gU8APQ6NxW7Q"
      }
    },
    {
      "cell_type": "markdown",
      "source": [
        "Ans- Imagine you’re developing a navigation application that tracks geographical locations of various landmarks. You need to store the latitude and longitude for each landmark, and this information will be used to plot the locations on a map. These coordinates are constant for each landmark once set, and there is no need to modify them during the course of the application.      \n",
        "when you have fixed data like geographical coordinates, using a tuple provides the ideal solution for ensuring data integrity, performance, and clarity in your application.\n",
        "\n",
        "In this case, using a tuple would be preferable over a list."
      ],
      "metadata": {
        "id": "erMZoueAxddR"
      }
    },
    {
      "cell_type": "markdown",
      "source": [
        "13.  How do sets handle duplicate values in Python?"
      ],
      "metadata": {
        "id": "jzWJ2I7yysBj"
      }
    },
    {
      "cell_type": "markdown",
      "source": [
        "Ans- In Python, a set is a built-in data structure that stores unordered collections of unique elements. This means that duplicate values are automatically removed when you try to add them to a set.\n",
        "\n",
        "Here’s a unique and easy way to understand how sets handle duplicates:         \n",
        "- No Order Guarantee                                                           \n",
        "     Since sets are unordered collections, there’s no guarantee that the elements will stay in the order you added them. This is a consequence of their underlying implementation, which prioritizes unique elements over the order of insertion."
      ],
      "metadata": {
        "id": "eeBctgdByw9L"
      }
    },
    {
      "cell_type": "code",
      "source": [
        "my_set = {3, 1, 2, 2}\n",
        "print(my_set)  # Output: {1, 2, 3}\n"
      ],
      "metadata": {
        "colab": {
          "base_uri": "https://localhost:8080/"
        },
        "id": "k5ATPV8LzLTv",
        "outputId": "a8a0721e-e50d-424f-8b44-c8e9e3e72a2a"
      },
      "execution_count": 3,
      "outputs": [
        {
          "output_type": "stream",
          "name": "stdout",
          "text": [
            "{1, 2, 3}\n"
          ]
        }
      ]
    },
    {
      "cell_type": "markdown",
      "source": [
        "- Automatic Elimination of Duplicates:                                         \n",
        "  When you add an element to a set, Python will check if the element is already present in the set. If the element is not already in the set, it will be added. However, if the element is already present, it will not be added again, ensuring that all elements in a set are unique."
      ],
      "metadata": {
        "id": "sMF0Cu6ezNwz"
      }
    },
    {
      "cell_type": "code",
      "source": [
        "my_set = {1, 2, 3}\n",
        "my_set.add(2)  # Duplicate, will not be added\n",
        "my_set.add(4)  # Unique, will be added\n",
        "\n",
        "print(my_set)  # Output: {1, 2, 3, 4}\n"
      ],
      "metadata": {
        "colab": {
          "base_uri": "https://localhost:8080/"
        },
        "id": "sqAkmQ2KzXxa",
        "outputId": "c1027aa7-9df9-4b40-b84d-1749e9dd9887"
      },
      "execution_count": 4,
      "outputs": [
        {
          "output_type": "stream",
          "name": "stdout",
          "text": [
            "{1, 2, 3, 4}\n"
          ]
        }
      ]
    },
    {
      "cell_type": "markdown",
      "source": [
        "- Efficiency in Handling Duplicates                                             \n",
        "   Sets are designed for fast membership tests, meaning they are efficient in checking whether an item is a duplicate. Adding an element to a set (even if it’s a duplicate) is an O(1) operation, making sets highly efficient for situations where you need to eliminate duplicates or check membership quickly."
      ],
      "metadata": {
        "id": "6OaW27r6zaNw"
      }
    },
    {
      "cell_type": "markdown",
      "source": [
        "14.  How does the “in” keyword work differently for lists and dictionaries ?"
      ],
      "metadata": {
        "id": "G3XzBP_3zk4J"
      }
    },
    {
      "cell_type": "markdown",
      "source": [
        "Ans- The \"in\" keyword in Python is used to check for the existence of an element in a collection like a list, dictionary, set, etc. However, the way the \"in\" keyword works differs for lists and dictionaries.                     \n",
        "\n",
        "\"in\" with Lists:                                                               \n",
        " When you use the \"in\" keyword with a list, Python checks if the element you're looking for exists within the list. It will search the entire list for a matching value and return True if it finds the element. If the element is not found, it returns False.\n",
        "\n"
      ],
      "metadata": {
        "id": "TEx6G7T5zrfA"
      }
    },
    {
      "cell_type": "code",
      "source": [
        "my_list = [1, 2, 3, 4, 5]\n",
        "\n",
        "# Checking if a number is in the list\n",
        "print(3 in my_list)  # Output: True\n",
        "print(6 in my_list)  # Output: False\n"
      ],
      "metadata": {
        "colab": {
          "base_uri": "https://localhost:8080/"
        },
        "id": "uFJc7D3O0Nda",
        "outputId": "1c00836f-c8ae-4bbe-f2bb-44b33874696d"
      },
      "execution_count": 5,
      "outputs": [
        {
          "output_type": "stream",
          "name": "stdout",
          "text": [
            "True\n",
            "False\n"
          ]
        }
      ]
    },
    {
      "cell_type": "markdown",
      "source": [
        "\"in\" with Dictionaries:                                                        \n",
        "   When you use the \"in\" keyword with a dictionary, Python behaves a little differently. In this case, the \"in\" keyword checks for the presence of keys, not values. Specifically, it looks for the key in the dictionary’s keys rather than the values or items (key-value pairs).                  "
      ],
      "metadata": {
        "id": "ayKH_dT70O45"
      }
    },
    {
      "cell_type": "code",
      "source": [
        "my_dict = {'a': 1, 'b': 2, 'c': 3}\n",
        "\n",
        "# Checking if a key exists in the dictionary\n",
        "print('b' in my_dict)  # Output: True\n",
        "print('d' in my_dict)  # Output: False\n"
      ],
      "metadata": {
        "colab": {
          "base_uri": "https://localhost:8080/"
        },
        "id": "P2INjypp0Wv0",
        "outputId": "4f036007-b8ef-4e88-aa70-335dbb39c810"
      },
      "execution_count": 6,
      "outputs": [
        {
          "output_type": "stream",
          "name": "stdout",
          "text": [
            "True\n",
            "False\n"
          ]
        }
      ]
    },
    {
      "cell_type": "markdown",
      "source": [
        "15. Can you modify the elements of a tuple? Explain why or why not ?"
      ],
      "metadata": {
        "id": "Z15C0JwU0ZvM"
      }
    },
    {
      "cell_type": "markdown",
      "source": [
        "Ans- No, you cannot modify the elements of a tuple. This is because tuples are immutable, which means their contents are fixed at the time of creation.\n",
        "\n",
        "However, you can reassign the entire tuple or perform operations like slicing or concatenation to create new tuples.\n",
        "\n",
        "The immutability of tuples provides benefits like better performance, data integrity, and the ability to use them as keys in dictionaries.\n",
        "\n",
        "\n",
        "\n"
      ],
      "metadata": {
        "id": "MywycscN0eBK"
      }
    },
    {
      "cell_type": "markdown",
      "source": [
        "16. What is a nested dictionary, and give an example of its use case?"
      ],
      "metadata": {
        "id": "GVywAK-JAJHS"
      }
    },
    {
      "cell_type": "markdown",
      "source": [
        "Ans-  A nested dictionary is a dictionary where the values are themselves dictionaries. Essentially, it’s a dictionary within another dictionary. This allows you to create a more complex data structure, where you can store multiple levels of data in an organized way.                            \n",
        "Use Case of a Nested Dictionary:                                           \n",
        "One typical use case of a nested dictionary is to store information about multiple people, where each person's data includes several pieces of information (such as name, age, and city).\n",
        "\n",
        "Example: Storing and Accessing Information of Multiple Employees\n",
        "Let's say you are building a system to store employee information in a company, and each employee has various details like their name, job title, and department. You can use a nested dictionary to organize this data\n",
        "   "
      ],
      "metadata": {
        "id": "DhZZ1ZEbAQGy"
      }
    },
    {
      "cell_type": "code",
      "source": [
        "employees = {\n",
        "    'emp001': {'name': 'John', 'job': 'Engineer', 'department': 'Development'},\n",
        "    'emp002': {'name': 'Sara', 'job': 'Manager', 'department': 'Marketing'},\n",
        "    'emp003': {'name': 'Mike', 'job': 'Designer', 'department': 'UI/UX'}\n",
        "}\n",
        "\n",
        "# Accessing a specific employee's information\n",
        "print(employees['emp001'])  # Output: {'name': 'John', 'job': 'Engineer', 'department': 'Development'}\n",
        "\n",
        "# Accessing a specific piece of information for an employee\n",
        "print(employees['emp002']['job'])  # Output: Manager\n"
      ],
      "metadata": {
        "colab": {
          "base_uri": "https://localhost:8080/"
        },
        "id": "ofXXwkqvAyUk",
        "outputId": "858e5c88-efcc-4e37-ced7-739fccc9e122"
      },
      "execution_count": 7,
      "outputs": [
        {
          "output_type": "stream",
          "name": "stdout",
          "text": [
            "{'name': 'John', 'job': 'Engineer', 'department': 'Development'}\n",
            "Manager\n"
          ]
        }
      ]
    },
    {
      "cell_type": "markdown",
      "source": [
        "17. Describe the time complexity of accessing elements in a dictionary ?"
      ],
      "metadata": {
        "id": "vxZicY_eA0Hz"
      }
    },
    {
      "cell_type": "markdown",
      "source": [
        "Ans - In Python, dictionaries are implemented using a hash table. This allows for very efficient access to elements, especially when compared to other data structures like lists. The time complexity for accessing elements in a dictionary is O(1), or constant time, on average.                            \n",
        "- Average Case: O(1) — Accessing elements in a dictionary by key is very fast and happens in constant time on average.\n",
        "- Worst Case: O(n) — In rare cases where hash collisions occur, the time complexity can degrade to linear time, but this is typically handled efficiently in practice.\n",
        "- Amortized Time Complexity: O(1) — Over multiple operations, the time complexity remains constant due to the efficient handling of collisions and rehashing."
      ],
      "metadata": {
        "id": "pWoJCBq0A5X7"
      }
    },
    {
      "cell_type": "markdown",
      "source": [
        "18. In what situations are lists preferred over dictionaries?"
      ],
      "metadata": {
        "id": "QGEUUSGaBbiu"
      }
    },
    {
      "cell_type": "markdown",
      "source": [
        "Ans- While dictionaries and lists are both widely used data structures in Python, they serve different purposes and are preferred in different situations depending on the type of data and the operations you need to perform. Here are some situations where lists are preferred over dictionaries:                \n",
        "When order matters: Lists preserve the order of elements.\n",
        "- When the data has no key-value relationships: Lists store simple sequences.\n",
        "- When you need to access elements by index: Lists allow direct index-based access.\n",
        "- When you need to store duplicate items: Lists allow repeated values.\n",
        "- When you need rich built-in list operations: Lists have many specialized methods for handling sequences.\n",
        "- When you don’t need unique keys: Lists don't require a key for each value.\n",
        "- When you need to iterate through all elements: Lists make it easy to perform operations on each item in sequence."
      ],
      "metadata": {
        "id": "vgYQKuRGBgQ7"
      }
    },
    {
      "cell_type": "markdown",
      "source": [
        "19.  Why are dictionaries considered unordered, and how does that affect data retrieval?"
      ],
      "metadata": {
        "id": "EjjwJJ7vCDjj"
      }
    },
    {
      "cell_type": "markdown",
      "source": [
        "Ans-  Dictionaries in Python are considered unordered because they don't rely on the order in which items are added. Instead, they use a hash table to store keys and values. This means the placement of the key-value pairs in memory is based on a hash function, not the sequence of insertion.                     \n",
        "\n",
        " Effect on Data Retrieval:\n",
        "- Retrieving values: The unordered nature doesn’t affect how quickly you can retrieve a value by its key. Dictionary lookups are fast and happen in constant time (O(1)), thanks to hashing. The order doesn’t matter because Python is not looking through the dictionary in sequence; it's using the hash to directly find the location of the value.\n",
        "\n",
        "- Iteration: If you need to loop over the dictionary, in Python 3.7 and later, the order will be preserved, so you’ll see the keys and values in the order they were inserted."
      ],
      "metadata": {
        "id": "LWKnw6ghCKuK"
      }
    },
    {
      "cell_type": "markdown",
      "source": [
        "20. Explain the difference between a list and a dictionary in terms of data retrieval."
      ],
      "metadata": {
        "id": "Gh2fHQg4C-sG"
      }
    },
    {
      "cell_type": "markdown",
      "source": [
        "Ans- List:                                                                      \n",
        "- Index-based retrieval: Data in a list is accessed by index, meaning you retrieve elements by their position in the list.\n",
        "- Order matters: The elements in a list are ordered, so the index represents a specific position in the sequence."
      ],
      "metadata": {
        "id": "5cbH1nWqDDKK"
      }
    },
    {
      "cell_type": "code",
      "source": [
        "my_list = [10, 20, 30, 40]\n",
        "# Accessing an element by its index\n",
        "print(my_list[2])  # Output: 30 (3rd element)\n"
      ],
      "metadata": {
        "colab": {
          "base_uri": "https://localhost:8080/"
        },
        "id": "rBYmM4NrDfcO",
        "outputId": "efab7911-9895-4da6-cf0b-6dcd52f706ca"
      },
      "execution_count": 8,
      "outputs": [
        {
          "output_type": "stream",
          "name": "stdout",
          "text": [
            "30\n"
          ]
        }
      ]
    },
    {
      "cell_type": "markdown",
      "source": [
        "Dictionary:                                                                    \n",
        "- Key-based retrieval: In a dictionary, data is accessed by key. Each value is associated with a unique key, and you retrieve data by providing the key.\n",
        "- Order doesn’t matter (until Python 3.7): Dictionaries in older versions of Python (before 3.7) were unordered, meaning the order of key-value pairs was not guaranteed. However, starting from Python 3.7, they preserve insertion order (though this doesn’t affect how data is retrieved)."
      ],
      "metadata": {
        "id": "QTswIroEDhZD"
      }
    },
    {
      "cell_type": "code",
      "source": [
        "my_dict = {'a': 10, 'b': 20, 'c': 30}\n",
        "# Accessing an element by its key\n",
        "print(my_dict['b'])  # Output: 20\n"
      ],
      "metadata": {
        "colab": {
          "base_uri": "https://localhost:8080/"
        },
        "id": "7SHf2ODVDqhc",
        "outputId": "109ab49e-ac71-4fb6-e925-beccf20203f7"
      },
      "execution_count": 9,
      "outputs": [
        {
          "output_type": "stream",
          "name": "stdout",
          "text": [
            "20\n"
          ]
        }
      ]
    },
    {
      "cell_type": "markdown",
      "source": [
        "# Practical Questions"
      ],
      "metadata": {
        "id": "q0aC2RxHD8et"
      }
    },
    {
      "cell_type": "markdown",
      "source": [
        "1. Write a code to create a string with your name and print it?"
      ],
      "metadata": {
        "id": "krJj4VwJEBXk"
      }
    },
    {
      "cell_type": "code",
      "source": [
        "# Create a string with your name\n",
        "my_name = \"Roshan\"\n",
        "\n",
        "# Print the string\n",
        "print(my_name)\n"
      ],
      "metadata": {
        "colab": {
          "base_uri": "https://localhost:8080/"
        },
        "id": "MAmUQXZiEHKF",
        "outputId": "f8e029b2-239b-435f-db75-e54a8ac0af86"
      },
      "execution_count": 11,
      "outputs": [
        {
          "output_type": "stream",
          "name": "stdout",
          "text": [
            "Roshan\n"
          ]
        }
      ]
    },
    {
      "cell_type": "markdown",
      "source": [
        "2. Write a code to find the length of the string \"Hello World\"."
      ],
      "metadata": {
        "id": "IQdkI0GcERyG"
      }
    },
    {
      "cell_type": "code",
      "source": [
        "# Define the string\n",
        "my_string = \"Hello World\"\n",
        "\n",
        "# Find and print the length of the string\n",
        "length = len(my_string)\n",
        "print(\"The length of the string is:\", length)\n"
      ],
      "metadata": {
        "colab": {
          "base_uri": "https://localhost:8080/"
        },
        "id": "i8ZUAdABEXOG",
        "outputId": "1a5cb040-3fbe-4711-8e3c-7f8ca6d12f48"
      },
      "execution_count": 12,
      "outputs": [
        {
          "output_type": "stream",
          "name": "stdout",
          "text": [
            "The length of the string is: 11\n"
          ]
        }
      ]
    },
    {
      "cell_type": "markdown",
      "source": [
        "3. Write a code to slice the first 3 characters from the string \"Python Programming\"."
      ],
      "metadata": {
        "id": "7WxQRXUhEgkX"
      }
    },
    {
      "cell_type": "code",
      "source": [
        "# Define the string\n",
        "my_string = \"Python Programming\"\n",
        "\n",
        "# Slice the first 3 characters\n",
        "sliced_string = my_string[:3]\n",
        "\n",
        "# Print the sliced string\n",
        "print(\"The first 3 characters are:\", sliced_string)\n"
      ],
      "metadata": {
        "colab": {
          "base_uri": "https://localhost:8080/"
        },
        "id": "FRTA4u9iEkb-",
        "outputId": "2db56f17-1e4d-4f18-9061-c712766cff4d"
      },
      "execution_count": 13,
      "outputs": [
        {
          "output_type": "stream",
          "name": "stdout",
          "text": [
            "The first 3 characters are: Pyt\n"
          ]
        }
      ]
    },
    {
      "cell_type": "markdown",
      "source": [
        "4.  Write a code to convert the string \"hello\" to uppercase."
      ],
      "metadata": {
        "id": "BonVVm5PErCV"
      }
    },
    {
      "cell_type": "code",
      "source": [
        "# Define the string\n",
        "my_string = \"hello\"\n",
        "\n",
        "# Convert the string to uppercase\n",
        "uppercase_string = my_string.upper()\n",
        "\n",
        "# Print the uppercase string\n",
        "print(\"The uppercase string is:\", uppercase_string)\n"
      ],
      "metadata": {
        "colab": {
          "base_uri": "https://localhost:8080/"
        },
        "id": "P1VIr9zYExKu",
        "outputId": "84f842ba-75fa-4f69-a8a0-3086ec0ac082"
      },
      "execution_count": 14,
      "outputs": [
        {
          "output_type": "stream",
          "name": "stdout",
          "text": [
            "The uppercase string is: HELLO\n"
          ]
        }
      ]
    },
    {
      "cell_type": "markdown",
      "source": [
        "5. Write a code to replace the word \"apple\" with \"orange\" in the string \"I like apple\"."
      ],
      "metadata": {
        "id": "cS0osdnWE3pU"
      }
    },
    {
      "cell_type": "code",
      "source": [
        "# Define the string\n",
        "my_string = \"I like apple\"\n",
        "\n",
        "# Replace \"apple\" with \"orange\"\n",
        "new_string = my_string.replace(\"apple\", \"orange\")\n",
        "\n",
        "# Print the new string\n",
        "print(\"The updated string is:\", new_string)\n"
      ],
      "metadata": {
        "colab": {
          "base_uri": "https://localhost:8080/"
        },
        "id": "E5qaeMglE69d",
        "outputId": "a46934b0-7e3c-4798-c925-892366ecd45c"
      },
      "execution_count": 15,
      "outputs": [
        {
          "output_type": "stream",
          "name": "stdout",
          "text": [
            "The updated string is: I like orange\n"
          ]
        }
      ]
    },
    {
      "cell_type": "markdown",
      "source": [
        "6. Write a code to create a list with numbers 1 to 5 and print it."
      ],
      "metadata": {
        "id": "jXMiEOOuFAX9"
      }
    },
    {
      "cell_type": "code",
      "source": [
        "# Create a list with numbers 1 to 5\n",
        "my_list = [1, 2, 3, 4, 5]\n",
        "\n",
        "# Print the list\n",
        "print(\"The list is:\", my_list)\n"
      ],
      "metadata": {
        "colab": {
          "base_uri": "https://localhost:8080/"
        },
        "id": "o-4Fd7hqFEEp",
        "outputId": "e62da19b-9e12-49a5-8213-eddb4b89e72e"
      },
      "execution_count": 16,
      "outputs": [
        {
          "output_type": "stream",
          "name": "stdout",
          "text": [
            "The list is: [1, 2, 3, 4, 5]\n"
          ]
        }
      ]
    },
    {
      "cell_type": "markdown",
      "source": [
        "7. Write a code to append the number 10 to the list [1, 2, 3, 4]."
      ],
      "metadata": {
        "id": "pzCAz_SUFLez"
      }
    },
    {
      "cell_type": "code",
      "source": [
        "# Define the list\n",
        "my_list = [1, 2, 3, 4]\n",
        "\n",
        "# Append the number 10 to the list\n",
        "my_list.append(10)\n",
        "\n",
        "# Print the updated list\n",
        "print(\"The updated list is:\", my_list)\n"
      ],
      "metadata": {
        "colab": {
          "base_uri": "https://localhost:8080/"
        },
        "id": "c4_m_ToCFQ1L",
        "outputId": "15f7a3f1-7e9e-484d-92f4-f06892cf4b3e"
      },
      "execution_count": 17,
      "outputs": [
        {
          "output_type": "stream",
          "name": "stdout",
          "text": [
            "The updated list is: [1, 2, 3, 4, 10]\n"
          ]
        }
      ]
    },
    {
      "cell_type": "markdown",
      "source": [
        "8. Write a code to remove the number 3 from the list [1, 2, 3, 4, 5]."
      ],
      "metadata": {
        "id": "bjskEHnSFYiV"
      }
    },
    {
      "cell_type": "code",
      "source": [
        "# Define the list\n",
        "my_list = [1, 2, 3, 4, 5]\n",
        "\n",
        "# Remove the number 3 from the list\n",
        "my_list.remove(3)\n",
        "\n",
        "# Print the updated list\n",
        "print(\"The updated list is:\", my_list)\n"
      ],
      "metadata": {
        "colab": {
          "base_uri": "https://localhost:8080/"
        },
        "id": "q3KMoQFqFbpQ",
        "outputId": "43d56b49-670a-468f-a487-acb63ecd6f8b"
      },
      "execution_count": 18,
      "outputs": [
        {
          "output_type": "stream",
          "name": "stdout",
          "text": [
            "The updated list is: [1, 2, 4, 5]\n"
          ]
        }
      ]
    },
    {
      "cell_type": "markdown",
      "source": [
        "9. Write a code to access the second element in the list ['a', 'b', 'c', 'd'].\n"
      ],
      "metadata": {
        "id": "vFTVjkEOFh3C"
      }
    },
    {
      "cell_type": "code",
      "source": [
        "# Define the list\n",
        "my_list = ['a', 'b', 'c', 'd']\n",
        "\n",
        "# Access the second element (index 1)\n",
        "second_element = my_list[1]\n",
        "\n",
        "# Print the second element\n",
        "print(\"The second element is:\", second_element)\n"
      ],
      "metadata": {
        "colab": {
          "base_uri": "https://localhost:8080/"
        },
        "id": "fyvsq2KaFmFM",
        "outputId": "5ea0bc87-8b05-44e6-d675-a0ab991724b2"
      },
      "execution_count": 20,
      "outputs": [
        {
          "output_type": "stream",
          "name": "stdout",
          "text": [
            "The second element is: b\n"
          ]
        }
      ]
    },
    {
      "cell_type": "markdown",
      "source": [
        "10.  Write a code to reverse the list [10, 20, 30, 40, 50]."
      ],
      "metadata": {
        "id": "dN2SzZbHFvd9"
      }
    },
    {
      "cell_type": "code",
      "source": [
        "# Define the list\n",
        "my_list = [10, 20, 30, 40, 50]\n",
        "\n",
        "# Reverse the list\n",
        "my_list.reverse()\n",
        "\n",
        "# Print the reversed list\n",
        "print(\"The reversed list is:\", my_list)\n"
      ],
      "metadata": {
        "colab": {
          "base_uri": "https://localhost:8080/"
        },
        "id": "MKNX_br1F0TT",
        "outputId": "882687fb-3ad0-4464-a4dd-d6e1e4d37f7e"
      },
      "execution_count": 21,
      "outputs": [
        {
          "output_type": "stream",
          "name": "stdout",
          "text": [
            "The reversed list is: [50, 40, 30, 20, 10]\n"
          ]
        }
      ]
    },
    {
      "cell_type": "markdown",
      "source": [
        "11.  Write a code to create a tuple with the elements 100, 200, 300 and print it."
      ],
      "metadata": {
        "id": "0a_Zg9k5F8iT"
      }
    },
    {
      "cell_type": "code",
      "source": [
        "# Create the tuple\n",
        "my_tuple = (100, 200, 300)\n",
        "\n",
        "# Print the tuple\n",
        "print(\"The tuple is:\", my_tuple)\n"
      ],
      "metadata": {
        "colab": {
          "base_uri": "https://localhost:8080/"
        },
        "id": "7p6Ju723GCI8",
        "outputId": "b37985aa-7e80-4ee3-89c0-36fc6b9e0720"
      },
      "execution_count": 22,
      "outputs": [
        {
          "output_type": "stream",
          "name": "stdout",
          "text": [
            "The tuple is: (100, 200, 300)\n"
          ]
        }
      ]
    },
    {
      "cell_type": "markdown",
      "source": [
        "12. Write a code to access the second-to-last element of the tuple ('red', 'green', 'blue', 'yellow')."
      ],
      "metadata": {
        "id": "LlZu6iGGGJD1"
      }
    },
    {
      "cell_type": "code",
      "source": [
        "# Define the tuple\n",
        "my_tuple = ('red', 'green', 'blue', 'yellow')\n",
        "\n",
        "# Access the second-to-last element\n",
        "second_to_last = my_tuple[-2]\n",
        "\n",
        "# Print the second-to-last element\n",
        "print(\"The second-to-last element is:\", second_to_last)\n"
      ],
      "metadata": {
        "colab": {
          "base_uri": "https://localhost:8080/"
        },
        "id": "D34PpB3cGNwu",
        "outputId": "e65e4212-082f-477d-b084-c82902e6e796"
      },
      "execution_count": 23,
      "outputs": [
        {
          "output_type": "stream",
          "name": "stdout",
          "text": [
            "The second-to-last element is: blue\n"
          ]
        }
      ]
    },
    {
      "cell_type": "markdown",
      "source": [
        "13. Write a code to find the minimum number in the tuple (10, 20, 5, 15)."
      ],
      "metadata": {
        "id": "WaMkA4TjGTAj"
      }
    },
    {
      "cell_type": "code",
      "source": [
        "# Define the tuple\n",
        "my_tuple = (10, 20, 5, 15)\n",
        "\n",
        "# Find the minimum number in the tuple\n",
        "min_value = min(my_tuple)\n",
        "\n",
        "# Print the minimum number\n",
        "print(\"The minimum number is:\", min_value)\n"
      ],
      "metadata": {
        "colab": {
          "base_uri": "https://localhost:8080/"
        },
        "id": "nEkD5X4BGWYU",
        "outputId": "ad8827a5-8279-4a64-c7d0-e70bd5401a7e"
      },
      "execution_count": 24,
      "outputs": [
        {
          "output_type": "stream",
          "name": "stdout",
          "text": [
            "The minimum number is: 5\n"
          ]
        }
      ]
    },
    {
      "cell_type": "markdown",
      "source": [
        "14. Write a code to find the index of the element \"cat\" in the tuple ('dog', 'cat', 'rabbit')"
      ],
      "metadata": {
        "id": "tfpbv0NRGdW2"
      }
    },
    {
      "cell_type": "code",
      "source": [
        "# Define the tuple\n",
        "my_tuple = ('dog', 'cat', 'rabbit')\n",
        "\n",
        "# Find the index of the element \"cat\"\n",
        "index_of_cat = my_tuple.index('cat')\n",
        "\n",
        "# Print the index\n",
        "print(\"The index of 'cat' is:\", index_of_cat)\n"
      ],
      "metadata": {
        "colab": {
          "base_uri": "https://localhost:8080/"
        },
        "id": "ELz7hc4CGgsY",
        "outputId": "12d4bc0c-5bf9-40f2-98cc-396eddcd9098"
      },
      "execution_count": 25,
      "outputs": [
        {
          "output_type": "stream",
          "name": "stdout",
          "text": [
            "The index of 'cat' is: 1\n"
          ]
        }
      ]
    },
    {
      "cell_type": "markdown",
      "source": [
        "15. Write a code to create a tuple containing three different fruits and check if \"kiwi\" is in it."
      ],
      "metadata": {
        "id": "G3QLNX9vGmT1"
      }
    },
    {
      "cell_type": "code",
      "source": [
        "# Create a tuple with three different fruits\n",
        "fruits_tuple = ('apple', 'banana', 'cherry')\n",
        "\n",
        "# Check if \"kiwi\" is in the tuple\n",
        "is_kiwi_in_tuple = 'kiwi' in fruits_tuple\n",
        "\n",
        "# Print the result\n",
        "print(\"Is 'kiwi' in the tuple?\", is_kiwi_in_tuple)\n"
      ],
      "metadata": {
        "colab": {
          "base_uri": "https://localhost:8080/"
        },
        "id": "SqM_Y72bGpIX",
        "outputId": "1cfb2dd9-01b6-4c9f-bda1-ac93c0641a98"
      },
      "execution_count": 26,
      "outputs": [
        {
          "output_type": "stream",
          "name": "stdout",
          "text": [
            "Is 'kiwi' in the tuple? False\n"
          ]
        }
      ]
    },
    {
      "cell_type": "markdown",
      "source": [
        "16. Write a code to create a set with the elements 'a', 'b', 'c' and print it."
      ],
      "metadata": {
        "id": "Eo74S2U7GxGm"
      }
    },
    {
      "cell_type": "code",
      "source": [
        "# Create a set with the elements 'a', 'b', and 'c'\n",
        "my_set = {'a', 'b', 'c'}\n",
        "\n",
        "# Print the set\n",
        "print(\"The set is:\", my_set)\n"
      ],
      "metadata": {
        "colab": {
          "base_uri": "https://localhost:8080/"
        },
        "id": "EIkpedfvG0NG",
        "outputId": "7820df00-0366-44c9-b32b-0adbc6e9c0c7"
      },
      "execution_count": 27,
      "outputs": [
        {
          "output_type": "stream",
          "name": "stdout",
          "text": [
            "The set is: {'c', 'b', 'a'}\n"
          ]
        }
      ]
    },
    {
      "cell_type": "markdown",
      "source": [
        "17. Write a code to clear all elements from the set {1, 2, 3, 4, 5}."
      ],
      "metadata": {
        "id": "IB-8UPzTG6fc"
      }
    },
    {
      "cell_type": "code",
      "source": [
        "# Define the set\n",
        "my_set = {1, 2, 3, 4, 5}\n",
        "\n",
        "# Clear all elements from the set\n",
        "my_set.clear()\n",
        "\n",
        "# Print the set after clearing\n",
        "print(\"The set after clearing all elements:\", my_set)\n"
      ],
      "metadata": {
        "colab": {
          "base_uri": "https://localhost:8080/"
        },
        "id": "LyNqSHzgG_X2",
        "outputId": "2ab561d1-2ec2-412f-9c73-006d8b90f35a"
      },
      "execution_count": 28,
      "outputs": [
        {
          "output_type": "stream",
          "name": "stdout",
          "text": [
            "The set after clearing all elements: set()\n"
          ]
        }
      ]
    },
    {
      "cell_type": "markdown",
      "source": [
        "18.  Write a code to remove the element 4 from the set {1, 2, 3, 4}."
      ],
      "metadata": {
        "id": "8LL9HXyjHD_L"
      }
    },
    {
      "cell_type": "code",
      "source": [
        "# Define the set\n",
        "my_set = {1, 2, 3, 4}\n",
        "\n",
        "# Remove the element 4 from the set\n",
        "my_set.remove(4)\n",
        "\n",
        "# Print the set after removal\n",
        "print(\"The set after removing 4:\", my_set)\n"
      ],
      "metadata": {
        "colab": {
          "base_uri": "https://localhost:8080/"
        },
        "id": "1VOuvYdWHHTv",
        "outputId": "c056642c-73d3-4212-8b83-a35c31deddd9"
      },
      "execution_count": 29,
      "outputs": [
        {
          "output_type": "stream",
          "name": "stdout",
          "text": [
            "The set after removing 4: {1, 2, 3}\n"
          ]
        }
      ]
    },
    {
      "cell_type": "markdown",
      "source": [
        "19.  Write a code to find the union of two sets {1, 2, 3} and {3, 4, 5}."
      ],
      "metadata": {
        "id": "CimE4RktHNM1"
      }
    },
    {
      "cell_type": "code",
      "source": [
        "# Define the two sets\n",
        "set1 = {1, 2, 3}\n",
        "set2 = {3, 4, 5}\n",
        "\n",
        "# Find the union of the two sets\n",
        "union_set = set1.union(set2)\n",
        "\n",
        "# Print the union of the sets\n",
        "print(\"The union of the sets is:\", union_set)\n"
      ],
      "metadata": {
        "colab": {
          "base_uri": "https://localhost:8080/"
        },
        "id": "8ROpOIROHRhf",
        "outputId": "c5ccaf45-a7b3-4954-e706-12310c56baa7"
      },
      "execution_count": 30,
      "outputs": [
        {
          "output_type": "stream",
          "name": "stdout",
          "text": [
            "The union of the sets is: {1, 2, 3, 4, 5}\n"
          ]
        }
      ]
    },
    {
      "cell_type": "markdown",
      "source": [
        "20. 0. Write a code to find the intersection of two sets {1, 2, 3} and {2, 3, 4}."
      ],
      "metadata": {
        "id": "Op7H1JqPHWve"
      }
    },
    {
      "cell_type": "code",
      "source": [
        "# Define the two sets\n",
        "set1 = {1, 2, 3}\n",
        "set2 = {2, 3, 4}\n",
        "\n",
        "# Find the intersection of the two sets\n",
        "intersection_set = set1.intersection(set2)\n",
        "\n",
        "# Print the intersection of the sets\n",
        "print(\"The intersection of the sets is:\", intersection_set)\n"
      ],
      "metadata": {
        "colab": {
          "base_uri": "https://localhost:8080/"
        },
        "id": "xzCO_slhHZqS",
        "outputId": "6ffa6a97-fe57-43a8-9452-c9ea720144d7"
      },
      "execution_count": 31,
      "outputs": [
        {
          "output_type": "stream",
          "name": "stdout",
          "text": [
            "The intersection of the sets is: {2, 3}\n"
          ]
        }
      ]
    },
    {
      "cell_type": "markdown",
      "source": [
        "21. Write a code to create a dictionary with the keys \"name\", \"age\", and \"city\", and print it"
      ],
      "metadata": {
        "id": "VbABabl1HhI9"
      }
    },
    {
      "cell_type": "code",
      "source": [
        "# Create the dictionary\n",
        "my_dict = {\n",
        "    \"name\": \"John\",\n",
        "    \"age\": 25,\n",
        "    \"city\": \"New York\"\n",
        "}\n",
        "\n",
        "# Print the dictionary\n",
        "print(\"The dictionary is:\", my_dict)\n"
      ],
      "metadata": {
        "colab": {
          "base_uri": "https://localhost:8080/"
        },
        "id": "lYG0zjheHkFN",
        "outputId": "5d6f0620-48b7-44ab-a462-77d1d6d1c3e1"
      },
      "execution_count": 32,
      "outputs": [
        {
          "output_type": "stream",
          "name": "stdout",
          "text": [
            "The dictionary is: {'name': 'John', 'age': 25, 'city': 'New York'}\n"
          ]
        }
      ]
    },
    {
      "cell_type": "markdown",
      "source": [
        "22.  Write a code to add a new key-value pair \"country\": \"USA\" to the dictionary {'name': 'John', 'age': 25}."
      ],
      "metadata": {
        "id": "yc5tYovhHppR"
      }
    },
    {
      "cell_type": "code",
      "source": [
        "# Define the dictionary\n",
        "my_dict = {'name': 'John', 'age': 25}\n",
        "\n",
        "# Add a new key-value pair to the dictionary\n",
        "my_dict['country'] = 'USA'\n",
        "\n",
        "# Print the updated dictionary\n",
        "print(\"The updated dictionary is:\", my_dict)\n"
      ],
      "metadata": {
        "colab": {
          "base_uri": "https://localhost:8080/"
        },
        "id": "enordQLzHuXH",
        "outputId": "65b309f6-2928-4044-b6f4-3421a8da706e"
      },
      "execution_count": 33,
      "outputs": [
        {
          "output_type": "stream",
          "name": "stdout",
          "text": [
            "The updated dictionary is: {'name': 'John', 'age': 25, 'country': 'USA'}\n"
          ]
        }
      ]
    },
    {
      "cell_type": "markdown",
      "source": [
        "23.  Write a code to access the value associated with the key \"name\" in the dictionary {'name': 'Alice', 'age': 30}."
      ],
      "metadata": {
        "id": "8ibKQl1eHysO"
      }
    },
    {
      "cell_type": "code",
      "source": [
        "# Define the dictionary\n",
        "my_dict = {'name': 'Roshan', 'age': 30}\n",
        "\n",
        "# Access the value associated with the key \"name\"\n",
        "name_value = my_dict['name']\n",
        "\n",
        "# Print the value\n",
        "print(\"The value associated with 'name' is:\", name_value)\n",
        "\n"
      ],
      "metadata": {
        "colab": {
          "base_uri": "https://localhost:8080/"
        },
        "id": "h2G0nUCrH3yo",
        "outputId": "edaa9ac7-d447-4085-ea00-7fb80a19ed79"
      },
      "execution_count": 35,
      "outputs": [
        {
          "output_type": "stream",
          "name": "stdout",
          "text": [
            "The value associated with 'name' is: Roshan\n"
          ]
        }
      ]
    },
    {
      "cell_type": "markdown",
      "source": [
        "24. Write a code to remove the key \"age\" from the dictionary {'name': 'Bob', 'age': 22, 'city': 'New York'}."
      ],
      "metadata": {
        "id": "64skXPEeIEnV"
      }
    },
    {
      "cell_type": "code",
      "source": [
        "# Define the dictionary\n",
        "my_dict = {'name': 'Bob', 'age': 22, 'city': 'New York'}\n",
        "\n",
        "# Remove the key \"age\" from the dictionary\n",
        "del my_dict['age']\n",
        "\n",
        "# Print the updated dictionary\n",
        "print(\"The updated dictionary is:\", my_dict)\n"
      ],
      "metadata": {
        "colab": {
          "base_uri": "https://localhost:8080/"
        },
        "id": "KRf_qVK5IMAe",
        "outputId": "46b42459-2f24-43d4-8d94-9e305b7323b0"
      },
      "execution_count": 36,
      "outputs": [
        {
          "output_type": "stream",
          "name": "stdout",
          "text": [
            "The updated dictionary is: {'name': 'Bob', 'city': 'New York'}\n"
          ]
        }
      ]
    },
    {
      "cell_type": "markdown",
      "source": [
        "25.  Write a code to check if the key \"city\" exists in the dictionary {'name': 'Alice', 'city': 'Paris'}."
      ],
      "metadata": {
        "id": "fk4AbfvGIUq1"
      }
    },
    {
      "cell_type": "code",
      "source": [
        "# Define the dictionary\n",
        "my_dict = {'name': 'Alice', 'city': 'Paris'}\n",
        "\n",
        "# Check if the key \"city\" exists in the dictionary\n",
        "if 'city' in my_dict:\n",
        "    print(\"The key 'city' exists in the dictionary.\")\n",
        "else:\n",
        "    print(\"The key 'city' does not exist in the dictionary.\")\n"
      ],
      "metadata": {
        "colab": {
          "base_uri": "https://localhost:8080/"
        },
        "id": "YS0gbal8IYoz",
        "outputId": "5099ed55-2675-4ad0-b133-8872e8efa072"
      },
      "execution_count": 37,
      "outputs": [
        {
          "output_type": "stream",
          "name": "stdout",
          "text": [
            "The key 'city' exists in the dictionary.\n"
          ]
        }
      ]
    },
    {
      "cell_type": "markdown",
      "source": [
        "26. Write a code to create a list, a tuple, and a dictionary, and print them all."
      ],
      "metadata": {
        "id": "qgiu71tNIdl8"
      }
    },
    {
      "cell_type": "code",
      "source": [
        "# Create a list\n",
        "my_list = [1, 2, 3, 4, 5]\n",
        "\n",
        "# Create a tuple\n",
        "my_tuple = ('apple', 'banana', 'cherry')\n",
        "\n",
        "# Create a dictionary\n",
        "my_dict = {'name': 'John', 'age': 30, 'city': 'New York'}\n",
        "\n",
        "# Print the list, tuple, and dictionary\n",
        "print(\"The list is:\", my_list)\n",
        "print(\"The tuple is:\", my_tuple)\n",
        "print(\"The dictionary is:\", my_dict)\n"
      ],
      "metadata": {
        "colab": {
          "base_uri": "https://localhost:8080/"
        },
        "id": "cjJpEPzcIgsk",
        "outputId": "ed80f3b9-6f7b-4409-c923-89f7cd3355e2"
      },
      "execution_count": 38,
      "outputs": [
        {
          "output_type": "stream",
          "name": "stdout",
          "text": [
            "The list is: [1, 2, 3, 4, 5]\n",
            "The tuple is: ('apple', 'banana', 'cherry')\n",
            "The dictionary is: {'name': 'John', 'age': 30, 'city': 'New York'}\n"
          ]
        }
      ]
    },
    {
      "cell_type": "markdown",
      "source": [
        "27.  Write a code to create a list of 5 random numbers between 1 and 100, sort it in ascending order, and print the\n",
        "result.(replaced)"
      ],
      "metadata": {
        "id": "gBtk0AfMImXG"
      }
    },
    {
      "cell_type": "code",
      "source": [
        "import random\n",
        "\n",
        "# Create a list of 5 random numbers between 1 and 100\n",
        "random_numbers = [random.randint(1, 100) for _ in range(5)]\n",
        "\n",
        "# Sort the list in ascending order\n",
        "random_numbers.sort()\n",
        "\n",
        "# Print the sorted list\n",
        "print(\"The sorted list of random numbers is:\", random_numbers)\n"
      ],
      "metadata": {
        "colab": {
          "base_uri": "https://localhost:8080/"
        },
        "id": "ISIYLI-7Ip_h",
        "outputId": "e866a8fb-7f58-4bd4-b230-6a0268e43973"
      },
      "execution_count": 39,
      "outputs": [
        {
          "output_type": "stream",
          "name": "stdout",
          "text": [
            "The sorted list of random numbers is: [9, 25, 34, 45, 47]\n"
          ]
        }
      ]
    },
    {
      "cell_type": "markdown",
      "source": [
        "28. Write a code to create a list with strings and print the element at the third index."
      ],
      "metadata": {
        "id": "3mWbzTgHIydD"
      }
    },
    {
      "cell_type": "code",
      "source": [
        "# Create a list with strings\n",
        "my_list = [\"apple\", \"banana\", \"patra\", \"Roshan\", \"elderberry\"]\n",
        "\n",
        "# Print the element at the third index\n",
        "print(\"The element at the third index is:\", my_list[3])\n"
      ],
      "metadata": {
        "colab": {
          "base_uri": "https://localhost:8080/"
        },
        "id": "ToO73YSRI17B",
        "outputId": "ab887217-783f-404f-867f-a61122bb5b4c"
      },
      "execution_count": 42,
      "outputs": [
        {
          "output_type": "stream",
          "name": "stdout",
          "text": [
            "The element at the third index is: Roshan\n"
          ]
        }
      ]
    },
    {
      "cell_type": "markdown",
      "source": [
        "29. Write a code to combine two dictionaries into one and print the result."
      ],
      "metadata": {
        "id": "zw6r8M1iJIye"
      }
    },
    {
      "cell_type": "code",
      "source": [
        "# Define two dictionaries\n",
        "dict1 = {'name': 'Alice', 'age': 25}\n",
        "dict2 = {'city': 'Paris', 'country': 'France'}\n",
        "\n",
        "# Combine the two dictionaries\n",
        "combined_dict = {**dict1, **dict2}\n",
        "\n",
        "# Print the combined dictionary\n",
        "print(\"The combined dictionary is:\", combined_dict)\n"
      ],
      "metadata": {
        "colab": {
          "base_uri": "https://localhost:8080/"
        },
        "id": "Ce1v0qq9JMcW",
        "outputId": "1e8422b8-d7b8-45a4-ebf5-982945492aa7"
      },
      "execution_count": 43,
      "outputs": [
        {
          "output_type": "stream",
          "name": "stdout",
          "text": [
            "The combined dictionary is: {'name': 'Alice', 'age': 25, 'city': 'Paris', 'country': 'France'}\n"
          ]
        }
      ]
    },
    {
      "cell_type": "markdown",
      "source": [
        "30. Write a code to convert a list of strings into a set."
      ],
      "metadata": {
        "id": "GzBzCsMhJTsk"
      }
    },
    {
      "cell_type": "code",
      "source": [
        "# Define a list of strings\n",
        "my_list = [\"apple\", \"banana\", \"cherry\", \"apple\", \"date\", \"banana\"]\n",
        "\n",
        "# Convert the list into a set to remove duplicates\n",
        "my_set = set(my_list)\n",
        "\n",
        "# Print the resulting set\n",
        "print(\"The set is:\", my_set)\n"
      ],
      "metadata": {
        "colab": {
          "base_uri": "https://localhost:8080/"
        },
        "id": "F3OGYaxeJWp9",
        "outputId": "0774cce9-ca71-41e8-a1ac-b6ffc443c9c4"
      },
      "execution_count": 44,
      "outputs": [
        {
          "output_type": "stream",
          "name": "stdout",
          "text": [
            "The set is: {'banana', 'apple', 'cherry', 'date'}\n"
          ]
        }
      ]
    }
  ]
}